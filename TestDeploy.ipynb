{
 "cells": [
  {
   "cell_type": "code",
   "execution_count": 5,
   "id": "7c99ce81",
   "metadata": {},
   "outputs": [
    {
     "name": "stdout",
     "output_type": "stream",
     "text": [
      "TBC\n",
      "tensor([[0.0996, 0.0568, 0.2386, 0.0489, 0.9997]], grad_fn=<SigmoidBackward>)\n",
      "----------------\n",
      "4.89\n",
      "----------------\n",
      "tensor([4])\n"
     ]
    }
   ],
   "source": [
    "import torch\n",
    "from torch._C import ParameterDict\n",
    "import torch.nn as nn\n",
    "import torchvision.models as models\n",
    "import numpy as np\n",
    "from torch.autograd import Variable\n",
    "from torchvision import datasets, transforms\n",
    "import torch.nn.functional as F\n",
    "import torchvision.utils as vutils\n",
    "from io import open\n",
    "import os\n",
    "from PIL import Image\n",
    "from torchvision.models import mobilenet_v2\n",
    "import pretrainedmodels\n",
    "from torchvision import datasets, transforms\n",
    "from torch.utils.data import DataLoader\n",
    "\n",
    "imagepath = \"//Users/hilmyveradin/Documents/Documents/Programing-Others/WEB-PeriksaParu.com/static/TB (4).png\"\n",
    "image = Image.open(imagepath).convert(\"RGB\")\n",
    "\n",
    "transform = transforms.Compose([\n",
    "    transforms.RandomRotation(10),\n",
    "    transforms.Resize(256),\n",
    "    transforms.CenterCrop(224),\n",
    "    transforms.ToTensor(),\n",
    "    transforms.Normalize(mean=[0.485, 0.456, 0.406], std=[0.229, 0.224, 0.225])\n",
    "    ])\n",
    "\n",
    "input = transform(image)\n",
    "input = input[None]\n",
    "\n",
    "mnet = mobilenet_v2(pretrained=True)\n",
    "for param in mnet.parameters():\n",
    "    param.requires_grad = False\n",
    "\n",
    "class MyCustomMobileNetV2(nn.Module):\n",
    "    def __init__(self):\n",
    "        super().__init__()\n",
    "        self.mnet = mobilenet_v2(pretrained=True)\n",
    "        self.mnet.classifier = nn.Sequential(\n",
    "            nn.Linear(1280, 5),\n",
    "            nn.Sigmoid()\n",
    "        )\n",
    "        \n",
    "    def forward(self, x):\n",
    "        return self.mnet(x)\n",
    "\n",
    "\n",
    "MODEL = MyCustomMobileNetV2()\n",
    "MODEL.load_state_dict(torch.load(\"/Users/hilmyveradin/Documents/Documents/Programing-Others/WEB-PeriksaParu.com/test_model/weights_best_with random.pth\", map_location=torch.device('cpu')))\n",
    "MODEL.eval()\n",
    "output = MODEL(input)\n",
    "output1 = output.detach().numpy()\n",
    "result = output1[0,0]\n",
    "\n",
    "if (output.argmax(1)) == 0:\n",
    "    print(\"COVID19\")\n",
    "    result = output1[0,0]*100\n",
    "elif (output.argmax(1)) == 1:\n",
    "    print(\"NORMAL\")\n",
    "    result = output1[0,1]*100\n",
    "elif (output.argmax(1)) == 2:\n",
    "    print(\"PNEUMONIA\")\n",
    "    result = output1[0,2]*100\n",
    "elif (output.argmax(1)) == 3:\n",
    "    print(\"PNEUMONIA\")\n",
    "    result = output1[0,3]*100 \n",
    "else:\n",
    "    print(\"TBC\")\n",
    "    result = output1[0,3]*100\n",
    "    \n",
    "print(output)\n",
    "print(\"----------------\")\n",
    "print(\"{0:.2f}\".format(result))\n",
    "print(\"----------------\")\n",
    "print(output.argmax(1))"
   ]
  },
  {
   "cell_type": "code",
   "execution_count": 60,
   "id": "ba9fe7b7",
   "metadata": {},
   "outputs": [
    {
     "ename": "IndexError",
     "evalue": "index 4 is out of bounds for axis 1 with size 4",
     "output_type": "error",
     "traceback": [
      "\u001b[0;31m---------------------------------------------------------------------------\u001b[0m",
      "\u001b[0;31mIndexError\u001b[0m                                Traceback (most recent call last)",
      "\u001b[0;32m<ipython-input-60-896bf03259e6>\u001b[0m in \u001b[0;36m<module>\u001b[0;34m\u001b[0m\n\u001b[1;32m      1\u001b[0m \u001b[0mhasil\u001b[0m \u001b[0;34m=\u001b[0m \u001b[0moutput\u001b[0m\u001b[0;34m.\u001b[0m\u001b[0mdetach\u001b[0m\u001b[0;34m(\u001b[0m\u001b[0;34m)\u001b[0m\u001b[0;34m.\u001b[0m\u001b[0mnumpy\u001b[0m\u001b[0;34m(\u001b[0m\u001b[0;34m)\u001b[0m\u001b[0;34m\u001b[0m\u001b[0;34m\u001b[0m\u001b[0m\n\u001b[0;32m----> 2\u001b[0;31m \u001b[0mhasil\u001b[0m\u001b[0;34m[\u001b[0m\u001b[0;36m0\u001b[0m\u001b[0;34m,\u001b[0m\u001b[0;36m4\u001b[0m\u001b[0;34m]\u001b[0m\u001b[0;34m\u001b[0m\u001b[0;34m\u001b[0m\u001b[0m\n\u001b[0m",
      "\u001b[0;31mIndexError\u001b[0m: index 4 is out of bounds for axis 1 with size 4"
     ]
    }
   ],
   "source": [
    "hasil = output.detach().numpy()\n",
    "hasil[0,4]"
   ]
  },
  {
   "cell_type": "code",
   "execution_count": 59,
   "id": "0b91326e",
   "metadata": {},
   "outputs": [
    {
     "name": "stderr",
     "output_type": "stream",
     "text": [
      "/Users/hilmyveradin/opt/miniconda3/envs/deep_learning/lib/python3.7/site-packages/ipykernel_launcher.py:2: UserWarning: Implicit dimension choice for softmax has been deprecated. Change the call to include dim=X as an argument.\n",
      "  \n"
     ]
    },
    {
     "data": {
      "text/plain": [
       "tensor([[0.4754, 0.1749, 0.1749, 0.1749]], grad_fn=<SoftmaxBackward>)"
      ]
     },
     "execution_count": 59,
     "metadata": {},
     "output_type": "execute_result"
    }
   ],
   "source": [
    "sm = torch.nn.Softmax()\n",
    "prob = sm(output)\n",
    "\n",
    "\"\"\"if prob[:,0] > prob[:,1] and prob[:,0] > prob[:,2] and prob[:,0] > prob[:,3]:\n",
    "    print(prob[:,0])\n",
    "elif prob[:,1] > prob[:,0] and prob[:,1] > prob[:,2] and prob[:,1] > prob[:,3]:\n",
    "    print(prob[:,0])\n",
    "elif prob[:,2] > prob[:,0] and prob[:,2] > prob[:,1] and prob[:,2] > prob[:,3]:\n",
    "    print(prob[:,0])\n",
    "elif prob[:,3] > prob[:,0] and prob[:,3] > prob[:,1] and prob[:,3] > prob[:,2]:\n",
    "    print(prob[:,0])\n",
    "else:\n",
    "    print(\"Invalid input!\")\"\"\"\n",
    "\n",
    "prob"
   ]
  },
  {
   "cell_type": "code",
   "execution_count": 53,
   "id": "625525ff",
   "metadata": {
    "scrolled": true
   },
   "outputs": [],
   "source": [
    "out = output.detach().numpy()[:,0]"
   ]
  },
  {
   "cell_type": "code",
   "execution_count": 4,
   "id": "cf193983",
   "metadata": {
    "scrolled": true
   },
   "outputs": [
    {
     "name": "stderr",
     "output_type": "stream",
     "text": [
      "/Users/hilmyveradin/opt/miniconda3/envs/deep_learning/lib/python3.7/site-packages/ipykernel_launcher.py:1: DeprecationWarning: `np.float` is a deprecated alias for the builtin `float`. To silence this warning, use `float` by itself. Doing this will not modify any behavior and is safe. If you specifically wanted the numpy scalar type, use `np.float64` here.\n",
      "Deprecated in NumPy 1.20; for more details and guidance: https://numpy.org/devdocs/release/1.20.0-notes.html#deprecations\n",
      "  \"\"\"Entry point for launching an IPython kernel.\n"
     ]
    }
   ],
   "source": [
    "y = out.astype(np.float)"
   ]
  },
  {
   "cell_type": "code",
   "execution_count": 97,
   "id": "79cef60a",
   "metadata": {},
   "outputs": [
    {
     "name": "stdout",
     "output_type": "stream",
     "text": [
      "[13.994627]\n"
     ]
    }
   ],
   "source": [
    "print(y)"
   ]
  },
  {
   "cell_type": "code",
   "execution_count": null,
   "id": "9171844f",
   "metadata": {},
   "outputs": [],
   "source": []
  }
 ],
 "metadata": {
  "kernelspec": {
   "display_name": "Python [conda env:deep_learning]",
   "language": "python",
   "name": "conda-env-deep_learning-py"
  },
  "language_info": {
   "codemirror_mode": {
    "name": "ipython",
    "version": 3
   },
   "file_extension": ".py",
   "mimetype": "text/x-python",
   "name": "python",
   "nbconvert_exporter": "python",
   "pygments_lexer": "ipython3",
   "version": "3.7.6"
  },
  "varInspector": {
   "cols": {
    "lenName": 16,
    "lenType": 16,
    "lenVar": 40
   },
   "kernels_config": {
    "python": {
     "delete_cmd_postfix": "",
     "delete_cmd_prefix": "del ",
     "library": "var_list.py",
     "varRefreshCmd": "print(var_dic_list())"
    },
    "r": {
     "delete_cmd_postfix": ") ",
     "delete_cmd_prefix": "rm(",
     "library": "var_list.r",
     "varRefreshCmd": "cat(var_dic_list()) "
    }
   },
   "types_to_exclude": [
    "module",
    "function",
    "builtin_function_or_method",
    "instance",
    "_Feature"
   ],
   "window_display": false
  }
 },
 "nbformat": 4,
 "nbformat_minor": 5
}
